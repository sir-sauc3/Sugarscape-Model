{
  "nbformat": 4,
  "nbformat_minor": 0,
  "metadata": {
    "colab": {
      "provenance": [],
      "authorship_tag": "ABX9TyNcE+mAgYUN2bCCpf/m6x5l",
      "include_colab_link": true
    },
    "kernelspec": {
      "name": "python3",
      "display_name": "Python 3"
    },
    "language_info": {
      "name": "python"
    }
  },
  "cells": [
    {
      "cell_type": "markdown",
      "metadata": {
        "id": "view-in-github",
        "colab_type": "text"
      },
      "source": [
        "<a href=\"https://colab.research.google.com/github/sir-sauc3/Sugarscape-Model/blob/main/Sugarscape.ipynb\" target=\"_parent\"><img src=\"https://colab.research.google.com/assets/colab-badge.svg\" alt=\"Open In Colab\"/></a>"
      ]
    },
    {
      "cell_type": "markdown",
      "source": [
        "This is my take on the sugarscape model"
      ],
      "metadata": {
        "id": "jAIEALEj3p77"
      }
    },
    {
      "cell_type": "code",
      "source": [
        "import numpy as np\n",
        "from dataclasses import dataclass\n",
        "from pprint import pprint\n",
        "import random\n",
        "from scipy.signal import correlate2d\n",
        "import time\n",
        "import matplotlib\n",
        "import matplotlib.pyplot as plt\n",
        "from matplotlib import animation\n",
        "import matplotlib.colors as colors"
      ],
      "metadata": {
        "id": "yBhgPRxcT_K_"
      },
      "execution_count": 1,
      "outputs": []
    },
    {
      "cell_type": "code",
      "source": [
        "import pandas as pd\n",
        "import numpy as np\n",
        "import matplotlib.pyplot as plt\n",
        "import seaborn as sns\n",
        "\n",
        "import matplotlib as mpl\n",
        "mpl.rcParams['lines.linewidth'] = 2.0\n",
        "from IPython.display import clear_output\n",
        "\n",
        "\n",
        "# def three_frame(world, n_seq, seed=17):\n",
        "#     \"\"\"Draw three timesteps.\n",
        "    \n",
        "#     world: object with step, loop, and draw\n",
        "#     n_seq: 3-tuple, number of steps before each draw\n",
        "#     seed: random see for NumPy\n",
        "#     \"\"\"\n",
        "#     np.random.seed(seed)\n",
        "#     plt.figure(figsize=(10, 4))\n",
        "\n",
        "#     for i, n in enumerate(n_seq):\n",
        "#         plt.subplot(1, 3, i+1)\n",
        "#         world.loop(n)\n",
        "#         world.draw()\n",
        "\n",
        "#     plt.tight_layout()\n",
        "    \n",
        "\n",
        "# def savefig(filename, **options):\n",
        "#     \"\"\"Save the current figure.\n",
        "#     Keyword arguments are passed along to plt.savefig\n",
        "#     https://matplotlib.org/api/_as_gen/matplotlib.pyplot.savefig.html\n",
        "#     filename: string\n",
        "#     \"\"\"\n",
        "#     print(\"Saving figure to file\", filename)\n",
        "#     plt.savefig(filename, **options)\n",
        "\n",
        "\n",
        "def underride(d, **options):\n",
        "    \"\"\"Add key-value pairs to d only if key is not in d.\n",
        "    d: dictionary\n",
        "    options: keyword args to add to d\n",
        "    \"\"\"\n",
        "    for key, val in options.items():\n",
        "        d.setdefault(key, val)\n",
        "\n",
        "    return d\n",
        "\n",
        "\n",
        "# def decorate(**options):\n",
        "#     \"\"\"Decorate the current axes.\n",
        "#     Call decorate with keyword arguments like\n",
        "#     decorate(title='Title',\n",
        "#              xlabel='x',\n",
        "#              ylabel='y')\n",
        "#     The keyword arguments can be any of the axis properties\n",
        "#     https://matplotlib.org/api/axes_api.html\n",
        "#     In addition, you can use `legend=False` to suppress the legend.\n",
        "#     And you can use `loc` to indicate the location of the legend\n",
        "#     (the default value is 'best')\n",
        "#     \"\"\"\n",
        "#     loc = options.pop(\"loc\", \"best\")\n",
        "#     if options.pop(\"legend\", True):\n",
        "#         legend(loc=loc)\n",
        "\n",
        "#     plt.gca().set(**options)\n",
        "#     plt.tight_layout()\n",
        "\n",
        "\n",
        "# def legend(**options):\n",
        "#     \"\"\"Draws a legend only if there is at least one labeled item.\n",
        "#     options are passed to plt.legend()\n",
        "#     https://matplotlib.org/api/_as_gen/matplotlib.pyplot.legend.html\n",
        "#     \"\"\"\n",
        "#     underride(options, loc=\"best\", frameon=False)\n",
        "\n",
        "#     ax = plt.gca()\n",
        "#     handles, labels = ax.get_legend_handles_labels()\n",
        "#     if handles:\n",
        "#         ax.legend(handles, labels, **options)\n",
        "\n",
        "\n",
        "# def set_palette(*args, **kwds):\n",
        "#     \"\"\"Set the matplotlib color cycler.\n",
        "#     args, kwds: same as for sns.color_palette\n",
        "#     Also takes a boolean kwd, `reverse`, to indicate\n",
        "#     whether the order of the palette should be reversed.\n",
        "#     returns: list of colors\n",
        "#     \"\"\"\n",
        "#     reverse = kwds.pop('reverse', False)\n",
        "#     palette = sns.color_palette(*args, **kwds)\n",
        "\n",
        "#     palette = list(palette)\n",
        "#     if reverse:\n",
        "#         palette.reverse()\n",
        "\n",
        "#     cycler = plt.cycler(color=palette)\n",
        "#     plt.gca().set_prop_cycle(cycler)\n",
        "#     return palette"
      ],
      "metadata": {
        "id": "wi5WiEEsWImv"
      },
      "execution_count": 2,
      "outputs": []
    },
    {
      "cell_type": "code",
      "source": [
        "DEFAULT_IMSHOW_OPTIONS = dict(\n",
        "                              cmap='YlOrRd',\n",
        "                              interpolation='none',\n",
        "                              origin='lower',\n",
        "                              vmin=0, vmax=9\n",
        "                              )\n",
        "\n",
        "\n",
        "def plot_2D_array(array, axes=None, title='', **options):\n",
        "    \"\"\" Plot the 2D array as an image on the given axes  1's will be dark blue, 0's will be light blue. \"\"\"\n",
        "    axes = axes or plt.gca()  # If not axes are provided, draw on current axes\n",
        "    # axes.set_title(title)\n",
        "    # axes.set_xticks([], [])  # remove axes tick marks\n",
        "    # axes.set_yticks([], [])\n",
        "    options = {**DEFAULT_IMSHOW_OPTIONS, **options}\n",
        "    plt.imshow(array, **options)"
      ],
      "metadata": {
        "id": "i5tgWXhAmSq1"
      },
      "execution_count": 3,
      "outputs": []
    },
    {
      "cell_type": "code",
      "source": [
        "class Cell2D:\n",
        "    \"\"\"Parent class for 2-D cellular automata.\"\"\"\n",
        "\n",
        "    def __init__(self, n, m=None):\n",
        "        \"\"\"Initializes the attributes.\n",
        "        n: number of rows\n",
        "        m: number of columns\n",
        "        \"\"\"\n",
        "        m = n if m is None else m\n",
        "        self.array = np.zeros((n, m), np.uint8)\n",
        "\n",
        "    # def add_cells(self, row, col, *strings):\n",
        "    #     \"\"\"Adds cells at the given location.\n",
        "    #     row: top row index\n",
        "    #     col: left col index\n",
        "    #     strings: list of strings of 0s and 1s\n",
        "    #     \"\"\"\n",
        "    #     for i, s in enumerate(strings):\n",
        "    #         self.array[row+i, col:col+len(s)] = np.array([int(b) for b in s])\n",
        "\n",
        "    # def loop(self, iters=1):\n",
        "    #     \"\"\"Runs the given number of steps.\"\"\"\n",
        "    #     for i in range(iters):\n",
        "    #         self.step()\n",
        "\n",
        "    def draw(self, **options):\n",
        "        \"\"\"Draws the array.\n",
        "        \"\"\"\n",
        "        draw_array(self.array, **options)\n",
        "\n",
        "    def animate(self, frames, interval=None, step=None):\n",
        "        \"\"\"Animate the automaton.\n",
        "        \n",
        "        frames: number of frames to draw\n",
        "        interval: time between frames in seconds\n",
        "        iters: number of steps between frames\n",
        "        \"\"\"\n",
        "        if step is None:\n",
        "            step = self.step\n",
        "            \n",
        "        plt.figure()\n",
        "        try:\n",
        "            for i in range(frames-1):\n",
        "                self.draw()\n",
        "                plt.show()\n",
        "                if interval:\n",
        "                    sleep(interval)\n",
        "                step()\n",
        "                clear_output(wait=True)\n",
        "            self.draw()\n",
        "            plt.show()\n",
        "        except KeyboardInterrupt:\n",
        "            pass\n",
        "        \n",
        "\n",
        "def draw_array(array):\n",
        "    \"\"\"Draws the cells.\"\"\"\n",
        "\n",
        "    return plot_2D_array(array, DEFAULT_IMSHOW_OPTIONS)\n",
        "\n",
        "# def draw_array(array, **options):\n",
        "#     \"\"\"Draws the cells.\"\"\"\n",
        "#     n, m = array.shape\n",
        "#     options = underride(options,\n",
        "#                         cmap='Greens',\n",
        "#                         alpha=0.7,\n",
        "#                         vmin=0, vmax=1, \n",
        "#                         interpolation='none', \n",
        "#                         origin='upper',\n",
        "#                         extent=[0, m, 0, n])\n",
        "\n",
        "#     plt.axis([0, m, 0, n])\n",
        "#     plt.xticks([])\n",
        "#     plt.yticks([])\n",
        "\n",
        "#     return plt.imshow(array, **options)"
      ],
      "metadata": {
        "id": "fGvBGx4CVkCY"
      },
      "execution_count": 4,
      "outputs": []
    },
    {
      "cell_type": "code",
      "source": [
        "def make_locs(n, m):\n",
        "    \"\"\"Makes array where each row is an index in an `n` by `m` grid.\n",
        "    \n",
        "    n: int number of rows\n",
        "    m: int number of cols\n",
        "    \n",
        "    returns: NumPy array\n",
        "    \"\"\"\n",
        "    t = [(i, j) for i in range(n) for j in range(m)]\n",
        "    return np.array(t)"
      ],
      "metadata": {
        "id": "6NBePGa1TOI0"
      },
      "execution_count": 5,
      "outputs": []
    },
    {
      "cell_type": "code",
      "source": [
        "def make_visible_locs(vision):\n",
        "    \"\"\"Computes the kernel of visible cells.\n",
        "        \n",
        "    vision: int distance\n",
        "    \"\"\"\n",
        "    def make_array(d):\n",
        "        \"\"\"Generates visible cells with increasing distance.\"\"\"\n",
        "        a = np.array([[-d, 0], [d, 0], [0, -d], [0, d]])\n",
        "        np.random.shuffle(a)\n",
        "        return a\n",
        "                     \n",
        "    arrays = [make_array(d) for d in range(1, vision+1)]\n",
        "    return np.vstack(arrays)"
      ],
      "metadata": {
        "id": "hA-qP1xbRPLR"
      },
      "execution_count": 6,
      "outputs": []
    },
    {
      "cell_type": "code",
      "source": [
        "def distances_from(n, i, j):\n",
        "    \"\"\"Computes an array of distances.\n",
        "    \n",
        "    n: size of the array\n",
        "    i, j: coordinates to find distance from\n",
        "    \n",
        "    returns: array of float\n",
        "    \"\"\"\n",
        "    X, Y = np.indices((n, n))\n",
        "    return np.hypot(X-i, Y-j)"
      ],
      "metadata": {
        "id": "L4RgaCaVRFf2"
      },
      "execution_count": 7,
      "outputs": []
    },
    {
      "cell_type": "code",
      "execution_count": 8,
      "metadata": {
        "id": "yPy02_0M24cO"
      },
      "outputs": [],
      "source": [
        "class Sugarscape(Cell2D):\n",
        "    \"\"\"Represents an Epstein-Axtell Sugarscape.\"\"\"\n",
        "    \n",
        "    def __init__(self, n, **params):\n",
        "        \"\"\"Initializes the attributes.\n",
        "\n",
        "        n: number of rows and columns\n",
        "        params: dictionary of parameters\n",
        "        \"\"\"\n",
        "        self.n = n\n",
        "        self.params = params\n",
        "        \n",
        "        # track variables\n",
        "        self.agent_count_seq = []\n",
        "    \n",
        "        # make the capacity array\n",
        "        self.capacity = self.make_capacity()\n",
        "        \n",
        "        # initially all cells are at capacity\n",
        "        self.array = self.capacity.copy()\n",
        "        \n",
        "        # make the agents\n",
        "        self.make_agents()\n",
        "        \n",
        "    def make_capacity(self):\n",
        "        \"\"\"Makes the capacity array.\"\"\"\n",
        "        \n",
        "        # compute the distance of each cell from the peaks. \n",
        "        dist1 = distances_from(self.n, 15, 15)\n",
        "        dist2 = distances_from(self.n, 35, 35)\n",
        "        dist = np.minimum(dist1, dist2)\n",
        "        \n",
        "        # cells in the capacity array are set according to dist from peak\n",
        "        bins = [21, 16, 11, 6]\n",
        "        a = np.digitize(dist, bins)\n",
        "        return a\n",
        "        \n",
        "    def make_agents(self):\n",
        "        \"\"\"Makes the agents.\"\"\"\n",
        "        \n",
        "        # determine where the agents start and generate locations\n",
        "        n, m = self.params.get('starting_box', self.array.shape)\n",
        "        locs = make_locs(n, m)\n",
        "        np.random.shuffle(locs)\n",
        "\n",
        "        # make the agents\n",
        "        num_agents = self.params.get('num_agents', 400)\n",
        "        assert(num_agents <= len(locs))\n",
        "        self.agents = [Agent(locs[i], self.params) \n",
        "                       for i in range(num_agents)]\n",
        "        \n",
        "        # keep track of which cells are occupied\n",
        "        self.occupied = set(agent.loc for agent in self.agents)\n",
        "            \n",
        "    def grow(self):\n",
        "        \"\"\"Adds sugar to all cells and caps them by capacity.\"\"\"\n",
        "        grow_rate = self.params.get('grow_rate', 1)\n",
        "        self.array = np.minimum(self.array + grow_rate, self.capacity)\n",
        "        \n",
        "    def look_and_move(self, center, vision):\n",
        "        \"\"\"Finds the visible cell with the most sugar.\n",
        "        \n",
        "        center: tuple, coordinates of the center cell\n",
        "        vision: int, maximum visible distance\n",
        "        \n",
        "        returns: tuple, coordinates of best cell\n",
        "        \"\"\"\n",
        "        # find all visible cells\n",
        "        locs = make_visible_locs(vision)\n",
        "        locs = (locs + center) % self.n\n",
        "        \n",
        "        # convert rows of the array to tuples\n",
        "        locs = [tuple(loc) for loc in locs]\n",
        "        \n",
        "        # select unoccupied cells\n",
        "        empty_locs = [loc for loc in locs if loc not in self.occupied]\n",
        "        \n",
        "        # if all visible cells are occupied, stay put\n",
        "        if len(empty_locs) == 0:\n",
        "            return center\n",
        "        \n",
        "        # look up the sugar level in each cell\n",
        "        t = [self.array[loc] for loc in empty_locs]\n",
        "        \n",
        "        # find the best one and return it\n",
        "        # (in case of tie, argmax returns the first, which\n",
        "        # is the closest)\n",
        "        i = np.argmax(t)\n",
        "        return empty_locs[i]\n",
        "    \n",
        "    def harvest(self, loc):\n",
        "        \"\"\"Removes and returns the sugar from `loc`.\n",
        "        \n",
        "        loc: tuple coordinates\n",
        "        \"\"\"\n",
        "        sugar = self.array[loc]\n",
        "        self.array[loc] = 0\n",
        "        return sugar\n",
        "    \n",
        "    def step(self):\n",
        "        \"\"\"Executes one time step.\"\"\"\n",
        "        replace = self.params.get('replace', False)\n",
        "        \n",
        "        # loop through the agents in random order\n",
        "        random_order = np.random.permutation(self.agents)\n",
        "        for agent in random_order:\n",
        "            \n",
        "            # mark the current cell unoccupied\n",
        "            self.occupied.remove(agent.loc)\n",
        "            \n",
        "            # execute one step\n",
        "            agent.step(self)\n",
        "\n",
        "            # if the agent is dead, remove from the list\n",
        "            if agent.is_starving() or agent.is_old():\n",
        "                self.agents.remove(agent)\n",
        "                if replace:\n",
        "                    self.add_agent()\n",
        "            else:\n",
        "                # otherwise mark its cell occupied\n",
        "                self.occupied.add(agent.loc)\n",
        "\n",
        "        # update the time series\n",
        "        self.agent_count_seq.append(len(self.agents))\n",
        "        \n",
        "        # grow back some sugar\n",
        "        self.grow()\n",
        "        return len(self.agents)\n",
        "    \n",
        "    def add_agent(self):\n",
        "        \"\"\"Generates a new random agent.\n",
        "                \n",
        "        returns: new Agent\n",
        "        \"\"\"\n",
        "        new_agent = Agent(self.random_loc(), self.params)\n",
        "        self.agents.append(new_agent)\n",
        "        self.occupied.add(new_agent.loc)\n",
        "        return new_agent\n",
        "    \n",
        "    def random_loc(self):\n",
        "        \"\"\"Choose a random unoccupied cell.\n",
        "        \n",
        "        returns: tuple coordinates\n",
        "        \"\"\"\n",
        "        while True:\n",
        "            loc = tuple(np.random.randint(self.n, size=2))\n",
        "            if loc not in self.occupied:\n",
        "                return loc\n",
        "\n",
        "    def draw(self):\n",
        "        \"\"\"Draws the cells.\"\"\"\n",
        "        draw_array(self.array)#, cmap='YlOrRd', vmax=9, origin='lower'\n",
        "        \n",
        "        # draw the agents\n",
        "        xs, ys = self.get_coords()\n",
        "        self.points = plt.plot(xs, ys, '.', color='red')[0]\n",
        "    \n",
        "    def get_coords(self):\n",
        "        \"\"\"Gets the coordinates of the agents.\n",
        "        \n",
        "        Transforms from (row, col) to (x, y).\n",
        "        \n",
        "        returns: tuple of sequences, (xs, ys)\n",
        "        \"\"\"\n",
        "        agents = self.agents\n",
        "        rows, cols = np.transpose([agent.loc for agent in agents])\n",
        "        xs = cols + 0.5\n",
        "        ys = rows + 0.5\n",
        "        return xs, ys"
      ]
    },
    {
      "cell_type": "code",
      "source": [
        "class Agent:\n",
        "    \n",
        "    def __init__(self, loc, params):\n",
        "        \"\"\"Creates a new agent at the given location.\n",
        "        \n",
        "        loc: tuple coordinates\n",
        "        params: dictionary of parameters\n",
        "        \"\"\"\n",
        "        self.loc = tuple(loc)\n",
        "        self.age = 0\n",
        "\n",
        "        # extract the parameters\n",
        "        max_vision = params.get('max_vision', 6)\n",
        "        max_metabolism = params.get('max_metabolism', 4)\n",
        "        min_lifespan = params.get('min_lifespan', 10000)\n",
        "        max_lifespan = params.get('max_lifespan', 10000)\n",
        "        min_sugar = params.get('min_sugar', 5)\n",
        "        max_sugar = params.get('max_sugar', 25)\n",
        "        \n",
        "        # choose attributes\n",
        "        self.vision = np.random.randint(1, max_vision+1)\n",
        "        self.metabolism = np.random.uniform(1, max_metabolism)\n",
        "        self.lifespan = np.random.uniform(min_lifespan, max_lifespan)\n",
        "        self.sugar = np.random.uniform(min_sugar, max_sugar)\n",
        "\n",
        "    def step(self, env):\n",
        "        \"\"\"Look around, move, and harvest.\n",
        "        \n",
        "        env: Sugarscape\n",
        "        \"\"\"\n",
        "        self.loc = env.look_and_move(self.loc, self.vision)\n",
        "        self.sugar += env.harvest(self.loc) - self.metabolism\n",
        "        self.age += 1\n",
        "\n",
        "    def is_starving(self):\n",
        "        \"\"\"Checks if sugar has gone negative.\"\"\"\n",
        "        return self.sugar < 0\n",
        "    \n",
        "    def is_old(self):\n",
        "        \"\"\"Checks if lifespan is exceeded.\"\"\"\n",
        "        return self.age > self.lifespan"
      ],
      "metadata": {
        "id": "bIeMWJtbQ4LE"
      },
      "execution_count": 9,
      "outputs": []
    },
    {
      "cell_type": "code",
      "source": [
        "env = Sugarscape(50, num_agents=400)\n",
        "\n",
        "# env.draw()"
      ],
      "metadata": {
        "id": "1B2FaWvoREQr"
      },
      "execution_count": 19,
      "outputs": []
    },
    {
      "cell_type": "code",
      "source": [
        "env.animate(frames=50)"
      ],
      "metadata": {
        "colab": {
          "base_uri": "https://localhost:8080/",
          "height": 429
        },
        "id": "bfJnWvCHixWe",
        "outputId": "7baaea5e-94c4-4897-a825-dca3448c48ce"
      },
      "execution_count": 20,
      "outputs": [
        {
          "output_type": "display_data",
          "data": {
            "text/plain": [
              "<Figure size 640x480 with 1 Axes>"
            ],
            "image/png": "[encoded data removed]"
          },
          "metadata": {}
        }
      ]
    },
    {
      "cell_type": "code",
      "source": [
        "len(env.agents)"
      ],
      "metadata": {
        "colab": {
          "base_uri": "https://localhost:8080/"
        },
        "id": "cxZc8ue6izgl",
        "outputId": "b71d1848-7ea9-49f0-afde-6223a30b1e45"
      },
      "execution_count": 12,
      "outputs": [
        {
          "output_type": "execute_result",
          "data": {
            "text/plain": [
              "253"
            ]
          },
          "metadata": {},
          "execution_count": 12
        }
      ]
    },
    {
      "cell_type": "code",
      "source": [
        "plt.plot(env.agent_count_seq)\n",
        "# decorate(xlabel='Time steps', ylabel='Number of Agents')"
      ],
      "metadata": {
        "colab": {
          "base_uri": "https://localhost:8080/",
          "height": 445
        },
        "id": "1s-4N3xxi2SW",
        "outputId": "155fa693-b0bb-4f99-cab3-ec00ae2af01e"
      },
      "execution_count": 13,
      "outputs": [
        {
          "output_type": "execute_result",
          "data": {
            "text/plain": [
              "[<matplotlib.lines.Line2D at 0x7f3ed5c541c0>]"
            ]
          },
          "metadata": {},
          "execution_count": 13
        },
        {
          "output_type": "display_data",
          "data": {
            "text/plain": [
              "<Figure size 640x480 with 1 Axes>"
            ],
            "image/png": "[encoded data removed]"
          },
          "metadata": {}
        }
      ]
    }
  ]
}