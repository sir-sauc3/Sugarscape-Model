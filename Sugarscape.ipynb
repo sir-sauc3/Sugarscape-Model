{
  "nbformat": 4,
  "nbformat_minor": 0,
  "metadata": {
    "colab": {
      "provenance": [],
      "authorship_tag": "ABX9TyNquV9OW2QkUrSZr0cyMphT",
      "include_colab_link": true
    },
    "kernelspec": {
      "name": "python3",
      "display_name": "Python 3"
    },
    "language_info": {
      "name": "python"
    }
  },
  "cells": [
    {
      "cell_type": "markdown",
      "metadata": {
        "id": "view-in-github",
        "colab_type": "text"
      },
      "source": [
        "<a href=\"https://colab.research.google.com/github/sir-sauc3/Sugarscape-Model/blob/main/Sugarscape.ipynb\" target=\"_parent\"><img src=\"https://colab.research.google.com/assets/colab-badge.svg\" alt=\"Open In Colab\"/></a>"
      ]
    },
    {
      "cell_type": "markdown",
      "source": [
        "#FINAL PROJECT: SUGARSCAPE\n",
        "\n",
        "##Author: Sos\n",
        "\n",
        "###Introduction:\n",
        "\n",
        "The Sugarscape experiment is a digital simulation that models the behavior of agents as they search for sugar resources in a finite environment. The environment is represented as a grid, and each cell in the grid could contain a certain amount of sugar. Each agent has their own set of rules for how to search for sugar; they differ in vision, metabolism, and lifespan.\n",
        "\n",
        "We will shortly discover that as the agents are randomly positioned and start collecting sugar, the sugar becomes scarce and a fierce competition for the remaining resources begins. This leads to the emergence of hierarchies, where the ants with the better vision, metabolism, and lifespan, power over the others.\n",
        "\n",
        "...\n",
        "\n",
        "Since this is not code that I am coming up with from scratch, but rather building up on from an existing notebook. With that said, I will take this opportunity to give credit to the original work from chapter 11 of COMP 215 course's textbook. The reason I am making this notebook is so that it can be self-contained and easy to follow.\n",
        "\n",
        "\\\n",
        "\n",
        "---\n",
        "\n"
      ],
      "metadata": {
        "id": "jAIEALEj3p77"
      }
    },
    {
      "cell_type": "markdown",
      "source": [
        "The first cell imports all the necessary modules to carry out this simulation while the second cell is from one of my labs. I shall use it when it comes to the point of displaying the data."
      ],
      "metadata": {
        "id": "xmLsg488nwVW"
      }
    },
    {
      "cell_type": "code",
      "source": [
        "import numpy as np\n",
        "from pprint import pprint\n",
        "import random\n",
        "\n",
        "from time import sleep\n",
        "\n",
        "import matplotlib\n",
        "import matplotlib.pyplot as plt\n",
        "from matplotlib import animation\n",
        "import matplotlib.colors as colors"
      ],
      "metadata": {
        "id": "yBhgPRxcT_K_"
      },
      "execution_count": 1,
      "outputs": []
    },
    {
      "cell_type": "code",
      "source": [
        "DEFAULT_IMSHOW_OPTIONS = dict(\n",
        "                              cmap='YlOrRd',\n",
        "                              alpha=0.7,\n",
        "                              vmax=9, \n",
        "                              interpolation='none',\n",
        "                              origin='lower',\n",
        "                              )\n",
        "\n",
        "\n",
        "def plot_2D_array(array, axes=None, title='', **options):\n",
        "    \"\"\" Plot the 2D array as an image on the given axes  1's will be dark blue, 0's will be light blue. \"\"\"\n",
        "    axes = plt.gca()  # If not axes are provided, draw on current axes axes or \n",
        "    axes.set_title(title)\n",
        "    axes.set_xticks([], [])  # remove axes tick marks\n",
        "    axes.set_yticks([], [])\n",
        "    options = {**DEFAULT_IMSHOW_OPTIONS, **options}\n",
        "    return plt.imshow(array, **options)"
      ],
      "metadata": {
        "id": "i5tgWXhAmSq1"
      },
      "execution_count": 2,
      "outputs": []
    },
    {
      "cell_type": "markdown",
      "source": [
        "####The notebook from the textbook does not really say where the `Cell2D` class comes from. Making it difficult to understand what was going on. My task was to try figure out why this class was being called in the code and create one for myself.\n",
        "\n",
        "####So, here is my take..."
      ],
      "metadata": {
        "id": "Qq4F8nzFKbH_"
      }
    },
    {
      "cell_type": "markdown",
      "source": [
        "What `Cell2D` does here is to make a simple 2D array and fill it in with 0's.\n",
        "\n",
        "It also has an animation function which is used to plot the figure. As we go through each time step, the figure gets displayed and then cleared using `clear_output()` -- a function from the `IPython.display` module."
      ],
      "metadata": {
        "id": "X_C8GVE3LblD"
      }
    },
    {
      "cell_type": "code",
      "source": [
        "class Cell2D:\n",
        "\n",
        "    def __init__(self, n, m=None):\n",
        "        m = n if m is None else m\n",
        "        self.array = np.zeros((n, m), np.uint8)\n",
        "\n",
        "\n",
        "    def animate(self, frames, interval=None, step=None):\n",
        "        from IPython.display import clear_output\n",
        "        if step is None:\n",
        "            step = self.step\n",
        "            \n",
        "        plt.figure()\n",
        "        try:\n",
        "            for i in range(frames):\n",
        "                self.draw()\n",
        "                plt.show()\n",
        "                if interval:\n",
        "                    sleep(interval)\n",
        "                step()\n",
        "                clear_output(wait=True)\n",
        "        except KeyboardInterrupt:\n",
        "            pass"
      ],
      "metadata": {
        "id": "fGvBGx4CVkCY"
      },
      "execution_count": 3,
      "outputs": []
    },
    {
      "cell_type": "markdown",
      "source": [
        "####The next 5 code cells are what I got from the notebook. They define and set parameters for the Sugarscape model, set rules on how an agent is created, and define other stand-alone functions."
      ],
      "metadata": {
        "id": "wRjSc7lqNYsa"
      }
    },
    {
      "cell_type": "markdown",
      "source": [
        "`make_locs()` creates a numpy array containing every possible coordinate of a `n`x`m` grid.\n",
        "\n",
        "This will be helpful later when we are creating agents and want to get a place to position them."
      ],
      "metadata": {
        "id": "7KJrR22IUxFU"
      }
    },
    {
      "cell_type": "code",
      "source": [
        "def make_locs(n, m):\n",
        "    \"\"\"Makes array where each row is an index in an `n` by `m` grid.\n",
        "    \n",
        "    n: int number of rows\n",
        "    m: int number of cols\n",
        "    \n",
        "    returns: NumPy array\n",
        "    \"\"\"\n",
        "    t = [(i, j) for i in range(n) for j in range(m)]\n",
        "    return np.array(t)"
      ],
      "metadata": {
        "id": "6NBePGa1TOI0"
      },
      "execution_count": 4,
      "outputs": []
    },
    {
      "cell_type": "markdown",
      "source": [
        "`make_visible_locs()` generates an array of visible cells for an agent, which is based on the agent's visual range. The array is constructed using `make_array()` that generates visible cells with increasing distance, and the `make_visible_locs()` calls `make_array()` for each distance value and stacks the resulting arrays together to form the final kernel of visible cells.\n",
        "\n",
        "`.vstack()` is used to stack arrays in a vertical fashion. It takes a sequence of arrays (`arrays`) as input and returns a single array that stacks the input arrays vertically."
      ],
      "metadata": {
        "id": "h-BZTh9WVbde"
      }
    },
    {
      "cell_type": "code",
      "source": [
        "def make_visible_locs(vision):\n",
        "    \"\"\"Computes the kernel of visible cells.\n",
        "        \n",
        "    vision: int distance\n",
        "    \"\"\"\n",
        "    def make_array(d):\n",
        "        \"\"\"Generates visible cells with increasing distance.\"\"\"\n",
        "        a = np.array([[-d, 0], [d, 0], [0, -d], [0, d]])\n",
        "        np.random.shuffle(a)\n",
        "        return a\n",
        "                     \n",
        "    arrays = [make_array(d) for d in range(1, vision+1)]\n",
        "    return np.vstack(arrays)"
      ],
      "metadata": {
        "id": "hA-qP1xbRPLR"
      },
      "execution_count": 5,
      "outputs": []
    },
    {
      "cell_type": "markdown",
      "source": [
        "`distance_from()` is a function that uses two numpy array functions:\n",
        "\n",
        "1.   `np.indices()` returns two index arrays of size `n` each :-\n",
        "\n",
        "*   The first one (which is assigned to `X`) is a numpy array of all 0's in the first row, all 1's in the second row , ... , and all `n`'s in the `n`th row. You can think of this as an array of horizontal indices where each value just states the row index it is in.\n",
        "*   The second one (which is assigned to `Y`) is a numpy array that contains `[0, 1, 2 , 3 , ... , (n-1) , n]` in all its `n` rows; when printed, `Y` is seen as an array with all 0's in its first column, all 1's in its second column, ... , and all `n`'s in its `n`th column. You can think of this as an array of vertical indices where each value just states the column index it is in.\n",
        "\n",
        "\n",
        "2.   `np.hypot()` creates an array of size `n`. When printed out, the values shown represent the Euclidean distance from position (`i` , `j`) to that cell. You can think of this as an array that shows the distance from cell (`i` , `j`) to every other cell in the `n` x `n` grid."
      ],
      "metadata": {
        "id": "uwJzeOidVrYI"
      }
    },
    {
      "cell_type": "code",
      "source": [
        "def distances_from(n, i, j):\n",
        "    \"\"\"Computes an array of distances.\n",
        "    \n",
        "    n: size of the array\n",
        "    i, j: coordinates to find distance from\n",
        "    \n",
        "    returns: array of float\n",
        "    \"\"\"\n",
        "    X, Y = np.indices((n, n))\n",
        "    return np.hypot(X-i, Y-j)"
      ],
      "metadata": {
        "id": "L4RgaCaVRFf2"
      },
      "execution_count": 6,
      "outputs": []
    },
    {
      "cell_type": "markdown",
      "source": [
        "The `Agent` class has some pretty straight forward functions, so I'll just go on to explain lines 13 through 24 in the `__init__()` function. \n",
        "\n",
        "Remember when I mentioned that agents differ in vision, metabolism, and lifespan? That is what gets done here.\n",
        "\n",
        "1.   Lines 13 - 18 are responsible for setting the limits for our agents' attributes. This is achieved using `param.get()` . Since `param` is a dictionary that may or may not be passed during the creation of a Sugarscape instance, `.get()` checks through the dictionary for keys that are identical to its first argument. If it finds that key, it returns its value and the code assigns it to a variable. If the key does not exist, the second parameter of `.get()` gets returned. For example, in the first case, `params.get()` looks for `max_vision` in the `params` dictionary. If it exists, the value associated to the key `max_vision` gets returned and assigned to the variable `max_vision`. Otherwise, 6 is returned.\n",
        "\n",
        "2.   For each agent that gets created, lines 21 - 24 pick what values to assign to its attributes. This is done using `np.random()` which is a function that creates an equally likely chance of picking any element from a range of elements. The differnce here is that line 21 is the only one to have `.randint()` while the others have `.uniform()`. This simply means that we want some attributes to only be integers while others can be floating point numbers (set to a default of 15 decimal places). If you would like to change it to 2 decimal places, include `dtype=np.float16` as a third argument in any `.uniform()` function."
      ],
      "metadata": {
        "id": "GyAAg1nJicjx"
      }
    },
    {
      "cell_type": "code",
      "source": [
        "class Agent:\n",
        "    \n",
        "    def __init__(self, loc, params):\n",
        "        \"\"\"Creates a new agent at the given location.\n",
        "        \n",
        "        loc: tuple coordinates\n",
        "        params: dictionary of parameters\n",
        "        \"\"\"\n",
        "        self.loc = tuple(loc)\n",
        "        self.age = 0\n",
        "\n",
        "        # extract the parameters\n",
        "        max_vision = params.get('max_vision', 6)\n",
        "        max_metabolism = params.get('max_metabolism', 4)\n",
        "        min_lifespan = params.get('min_lifespan', 10000)\n",
        "        max_lifespan = params.get('max_lifespan', 10000)\n",
        "        min_sugar = params.get('min_sugar', 5)\n",
        "        max_sugar = params.get('max_sugar', 25)\n",
        "        \n",
        "        # choose attributes\n",
        "        self.vision = np.random.randint(1, max_vision+1)\n",
        "        self.metabolism = np.random.uniform(1, max_metabolism)\n",
        "        self.lifespan = np.random.uniform(min_lifespan, max_lifespan)\n",
        "        self.sugar = np.random.uniform(min_sugar, max_sugar)\n",
        "\n",
        "    def step(self, env):\n",
        "        \"\"\"Look around, move, and harvest.\n",
        "        \n",
        "        env: Sugarscape\n",
        "        \"\"\"\n",
        "        self.loc = env.look_and_move(self.loc, self.vision)\n",
        "        self.sugar += env.harvest(self.loc) - self.metabolism\n",
        "        self.age += 1\n",
        "\n",
        "    def is_starving(self):\n",
        "        \"\"\"Checks if sugar has gone negative.\"\"\"\n",
        "        return self.sugar < 0\n",
        "    \n",
        "    def is_old(self):\n",
        "        \"\"\"Checks if lifespan is exceeded.\"\"\"\n",
        "        return self.age > self.lifespan"
      ],
      "metadata": {
        "id": "bIeMWJtbQ4LE"
      },
      "execution_count": 7,
      "outputs": []
    },
    {
      "cell_type": "markdown",
      "source": [
        "There's a whole lot going on in the Sugarscape class. Some methods are self explanatory so I will try to expound on the functions that need a bit more explaining.\n",
        "\n",
        "\n",
        "*   `make_capacity()` creates an array that shows how good each cell in a grid is for an agent to move to. It does this by measuring the distance from two important cells in the grid (the two peaks at (`15,15`) and (`35,35`) respectively). It then puts each cell into one of four groups based on its distance from the peak spots. The function then returns the array that shows which group each cell belongs to. The closer a cell is to one of the peaks, the better it is for the agent to move towards it.\n",
        "\n",
        "\n",
        "*   `make_agents()` uses the `make_locs()` function that I explained earlier.\n",
        "\n",
        "\n",
        "*   `look_and_move()` helps the agents move to a cell in a grid that has the most sugar. It takes the coordinates of the cell they are currently in, as well as a maximum distance they can see (their vision). Then, it finds all the cells that are within that maximum distance using `make_visible_locs()` , and checks if each one is unoccupied. If all of the visible cells are occupied, the agent stays where it is. Otherwise, the agent looks up how much sugar there is in each empty cell and moves to the one with the most sugar. If there is a tie between two cells with the same amount of sugar, it picks the one that is closest.\n",
        "\n",
        "\n",
        "\n",
        "\n",
        "*   `step()` simulates one time step in the simulation. It starts by checking if the `replace` parameter is set to `True`, which means that if an agent dies, a new one will be added to the grid. Then, the function loops through all the agents in random order and performs the following actions:\n",
        "\n",
        "    1. Removes the agent's current cell from the list of occupied cells\n",
        "    \n",
        "    2. Executes one step for the agent by calling `agent.step()`\n",
        "    \n",
        "    3. If the agent is dead (either from starvation or old age) , `self.agents.remove(agent)` removes if from the list of agents, and if the `replace` parameter is set to `True`, a new agent is added to the grid using `self.add_agent()`\n",
        "    \n",
        "    4. If the agent is not dead, its current cell is added back to the list of occupied cells\n",
        "\n",
        "    After all the agents have been moved, the function appends the current number of agents to a time series list, and then calls `grow()` , which regenerates some sugar on the grid. Finally, the function returns the current number of agents.\n",
        "\n",
        "\n",
        "\n",
        "\n"
      ],
      "metadata": {
        "id": "2Eig6oul2R9k"
      }
    },
    {
      "cell_type": "code",
      "execution_count": 8,
      "metadata": {
        "id": "yPy02_0M24cO"
      },
      "outputs": [],
      "source": [
        "class Sugarscape(Cell2D):\n",
        "    \"\"\"Represents an Epstein-Axtell Sugarscape.\"\"\"\n",
        "    \n",
        "    def __init__(self, n, **params):\n",
        "        \"\"\"Initializes the attributes.\n",
        "\n",
        "        n: number of rows and columns\n",
        "        params: dictionary of parameters\n",
        "        \"\"\"\n",
        "        self.n = n\n",
        "        self.params = params\n",
        "        \n",
        "        # track variables\n",
        "        self.agent_count_seq = []\n",
        "    \n",
        "        # make the capacity array\n",
        "        self.capacity = self.make_capacity()\n",
        "        \n",
        "        # initially all cells are at capacity\n",
        "        self.array = self.capacity.copy()\n",
        "        \n",
        "        # make the agents\n",
        "        self.make_agents()\n",
        "        \n",
        "    def make_capacity(self):\n",
        "        \"\"\"Makes the capacity array.\"\"\"\n",
        "        \n",
        "        # compute the distance of each cell from the peaks. \n",
        "        dist1 = distances_from(self.n, 15, 15)\n",
        "        dist2 = distances_from(self.n, 35, 35)\n",
        "        dist = np.minimum(dist1, dist2)\n",
        "        \n",
        "        # cells in the capacity array are set according to dist from peak\n",
        "        bins = [21, 16, 11, 6]\n",
        "        a = np.digitize(dist, bins)\n",
        "        return a\n",
        "        \n",
        "    def make_agents(self):\n",
        "        \"\"\"Makes the agents.\"\"\"\n",
        "        \n",
        "        # determine where the agents start and generate locations\n",
        "        n, m = self.params.get('starting_box', self.array.shape)\n",
        "        locs = make_locs(n, m)\n",
        "        np.random.shuffle(locs)\n",
        "\n",
        "        # make the agents\n",
        "        num_agents = self.params.get('num_agents', 400)\n",
        "        assert(num_agents <= len(locs))\n",
        "        self.agents = [Agent(locs[i], self.params) \n",
        "                       for i in range(num_agents)]\n",
        "        \n",
        "        # keep track of which cells are occupied\n",
        "        self.occupied = set(agent.loc for agent in self.agents)\n",
        "            \n",
        "    def grow(self):\n",
        "        \"\"\"Adds sugar to all cells and caps them by capacity.\"\"\"\n",
        "        grow_rate = self.params.get('grow_rate', 1)\n",
        "        self.array = np.minimum(self.array + grow_rate, self.capacity)\n",
        "        \n",
        "    def look_and_move(self, center, vision):\n",
        "        \"\"\"Finds the visible cell with the most sugar.\n",
        "        \n",
        "        center: tuple, coordinates of the center cell\n",
        "        vision: int, maximum visible distance\n",
        "        \n",
        "        returns: tuple, coordinates of best cell\n",
        "        \"\"\"\n",
        "        # find all visible cells\n",
        "        locs = make_visible_locs(vision)\n",
        "        locs = (locs + center) % self.n\n",
        "        \n",
        "        # convert rows of the array to tuples\n",
        "        locs = [tuple(loc) for loc in locs]\n",
        "        \n",
        "        # select unoccupied cells\n",
        "        empty_locs = [loc for loc in locs if loc not in self.occupied]\n",
        "        \n",
        "        # if all visible cells are occupied, stay put\n",
        "        if len(empty_locs) == 0:\n",
        "            return center\n",
        "        \n",
        "        # look up the sugar level in each cell\n",
        "        t = [self.array[loc] for loc in empty_locs]\n",
        "        \n",
        "        # find the best one and return it\n",
        "        # (in case of tie, argmax returns the first, which\n",
        "        # is the closest)\n",
        "        i = np.argmax(t)\n",
        "        return empty_locs[i]\n",
        "    \n",
        "    def harvest(self, loc):\n",
        "        \"\"\"Removes and returns the sugar from `loc`.\n",
        "        \n",
        "        loc: tuple coordinates\n",
        "        \"\"\"\n",
        "        sugar = self.array[loc]\n",
        "        self.array[loc] = 0\n",
        "        return sugar\n",
        "    \n",
        "    def step(self):\n",
        "        \"\"\"Executes one time step.\"\"\"\n",
        "        replace = self.params.get('replace', False)\n",
        "        \n",
        "        # loop through the agents in random order\n",
        "        random_order = np.random.permutation(self.agents)\n",
        "        for agent in random_order:\n",
        "            \n",
        "            # mark the current cell unoccupied\n",
        "            self.occupied.remove(agent.loc)\n",
        "            \n",
        "            # execute one step\n",
        "            agent.step(self)\n",
        "\n",
        "            # if the agent is dead, remove from the list\n",
        "            if agent.is_starving() or agent.is_old():\n",
        "                self.agents.remove(agent)\n",
        "                if replace:\n",
        "                    self.add_agent()\n",
        "            else:\n",
        "                # otherwise mark its cell occupied\n",
        "                self.occupied.add(agent.loc)\n",
        "\n",
        "        # update the time series\n",
        "        self.agent_count_seq.append(len(self.agents))\n",
        "        \n",
        "        # grow back some sugar\n",
        "        self.grow()\n",
        "        return len(self.agents)\n",
        "    \n",
        "    def add_agent(self):\n",
        "        \"\"\"Generates a new random agent.\n",
        "                \n",
        "        returns: new Agent\n",
        "        \"\"\"\n",
        "        new_agent = Agent(self.random_loc(), self.params)\n",
        "        self.agents.append(new_agent)\n",
        "        self.occupied.add(new_agent.loc)\n",
        "        return new_agent\n",
        "\n",
        "    def random_loc(self):\n",
        "        \"\"\"Choose a random unoccupied cell.\n",
        "        \n",
        "        returns: tuple coordinates\n",
        "        \"\"\"\n",
        "        while True:\n",
        "            loc = tuple(np.random.randint(self.n, size=2))\n",
        "            if loc not in self.occupied:\n",
        "                return loc\n",
        "\n",
        "    def draw(self):\n",
        "        \"\"\"Draws the cells.\"\"\"\n",
        "        plot_2D_array(self.array, title = 'Sugarscape Model', **DEFAULT_IMSHOW_OPTIONS)\n",
        "        \n",
        "        # draw the agents\n",
        "        xs, ys = self.get_coords()\n",
        "        self.points = plt.plot(xs, ys, '.', color='red')[0]\n",
        "    \n",
        "    def get_coords(self):\n",
        "        \"\"\"Gets the coordinates of the agents.\n",
        "        \n",
        "        Transforms from (row, col) to (x, y).\n",
        "        \n",
        "        returns: tuple of sequences, (xs, ys)\n",
        "        \"\"\"\n",
        "        agents = self.agents\n",
        "        rows, cols = np.transpose([agent.loc for agent in agents])\n",
        "        xs = cols + 0.5\n",
        "        ys = rows + 0.5\n",
        "        return xs, ys"
      ]
    },
    {
      "cell_type": "markdown",
      "source": [
        "####Now that all the classes, methods, and functions have been defined, we can run and test the simulation.\n",
        "\n",
        "The frame below shows the initial state of the simulation. All the agents are in random positions. The frame also includes two concentric circles whose shade fades away the further you move from their centers. The darker the cell, the more the sugar it contains."
      ],
      "metadata": {
        "id": "pDOUPFPqSKzH"
      }
    },
    {
      "cell_type": "code",
      "source": [
        "env = Sugarscape(50, num_agents=400)\n",
        "env.draw()"
      ],
      "metadata": {
        "id": "1B2FaWvoREQr",
        "colab": {
          "base_uri": "https://localhost:8080/",
          "height": 427
        },
        "outputId": "bf91446b-f248-4afb-dc03-61a2377af3fe"
      },
      "execution_count": 9,
      "outputs": [
        {
          "output_type": "display_data",
          "data": {
            "text/plain": [
              "<Figure size 640x480 with 1 Axes>"
            ],
            "image/png": "[encoded data removed]"
          },
          "metadata": {}
        }
      ]
    },
    {
      "cell_type": "markdown",
      "source": [
        "After running the simulation for long enough (`frames=300`) , we get so see the state of the simulation at that time step. Almost all the agents are concentrated around either one of the important cells (peaks) that I mentioned before.\n",
        "\n",
        "By this point, it becames clear that only the most adapted and resilient agents were able to survive in the harsh environment. The weaker members of the population were quickly eliminated, leaving only the 'fittest' to continue on and thrive -- ouch!\n",
        "\n",
        "Over time, natural selection favored those agents with advantageous traits, and the population evolved to become more and more well-suited to their environment. "
      ],
      "metadata": {
        "id": "YABkIfNBTt2D"
      }
    },
    {
      "cell_type": "code",
      "source": [
        "env.animate(frames=300)"
      ],
      "metadata": {
        "colab": {
          "base_uri": "https://localhost:8080/",
          "height": 427
        },
        "id": "bfJnWvCHixWe",
        "outputId": "6c4e9f62-bacb-4512-c43b-7e842a916c5b"
      },
      "execution_count": 10,
      "outputs": [
        {
          "output_type": "display_data",
          "data": {
            "text/plain": [
              "<Figure size 640x480 with 1 Axes>"
            ],
            "image/png": "[encoded data removed]"
          },
          "metadata": {}
        }
      ]
    },
    {
      "cell_type": "code",
      "source": [
        "print(f'Number of agents by the last time step comes to: {len(env.agents)} agents')"
      ],
      "metadata": {
        "colab": {
          "base_uri": "https://localhost:8080/"
        },
        "id": "cxZc8ue6izgl",
        "outputId": "2b2eb174-6889-459e-8213-bbe5a102b437"
      },
      "execution_count": 16,
      "outputs": [
        {
          "output_type": "stream",
          "name": "stdout",
          "text": [
            "Number of agents by the last time step comes to: 239 agents\n"
          ]
        }
      ]
    },
    {
      "cell_type": "markdown",
      "source": [
        "\n",
        "\n",
        "---\n",
        "\n",
        "\n",
        "From the block below, we can tell the number of agents present across all time steps. What's interesting about this graph is that in the first few time steps as the population rapidly decreases and heads to zero, an interesting observation is made that the agent population decreases less rapidly to remain constant at about the 50th time step. At this point, there is no drastic change in the population size of the agents and it remains that way for the entirety of the simulation.\n",
        "\n",
        "What does this mean to us as computational scientists? From the graph we can tell that the simulation is heavy-tailed, giving hints that it exhibits self-regulating criticality. Self-regulating criticality refers to the phenomenon where complex systems can spontaneously evolve towards a state where they exhibit a balance between stability and instability, resulting in a scale-invariant behavior. Due to the different attributes that the agents had when being created, the 'highly active' agents (those with better vision, better metabolism and a longer lifespan) far surpassed the 'less active' agents and begun to dominate that environment.\n",
        "\n",
        "What could be done farther from this step is to introduce a change into the envionment (like changing the rate at which sugar comes back) and observing what changes it brings to the agent population. Does it arrive at a new steady state? Does it go back to exhibiting self-regulating criticality?"
      ],
      "metadata": {
        "id": "7ugHE0mgg5NJ"
      }
    },
    {
      "cell_type": "code",
      "source": [
        "plt.gca().set(xlabel=('Time steps'), ylabel=('Number of Agents'))\n",
        "plt.plot(env.agent_count_seq)"
      ],
      "metadata": {
        "colab": {
          "base_uri": "https://localhost:8080/",
          "height": 464
        },
        "id": "1s-4N3xxi2SW",
        "outputId": "edc5baa9-f3df-4d75-8a7a-89f7f482b729"
      },
      "execution_count": 17,
      "outputs": [
        {
          "output_type": "execute_result",
          "data": {
            "text/plain": [
              "[<matplotlib.lines.Line2D at 0x7f015d181640>]"
            ]
          },
          "metadata": {},
          "execution_count": 17
        },
        {
          "output_type": "display_data",
          "data": {
            "text/plain": [
              "<Figure size 640x480 with 1 Axes>"
            ],
            "image/png": "[encoded data removed]"
          },
          "metadata": {}
        }
      ]
    }
  ]
}